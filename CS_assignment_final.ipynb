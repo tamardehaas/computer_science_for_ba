{
 "cells": [
  {
   "cell_type": "code",
   "execution_count": 14,
   "id": "79f97525",
   "metadata": {},
   "outputs": [],
   "source": [
    "import pandas as pd\n",
    "import itertools\n",
    "import re\n",
    "from random import shuffle\n",
    "from itertools import combinations\n",
    "import random\n",
    "import json\n",
    "import numpy as np\n",
    "import scipy\n",
    "from sklearn.metrics.pairwise import cosine_similarity\n",
    "from sklearn.metrics import jaccard_score\n",
    "import matplotlib.pyplot as plt\n",
    "from sklearn.linear_model import LogisticRegression\n",
    "from sklearn.model_selection import GridSearchCV\n",
    "from sklearn.metrics import classification_report, f1_score\n",
    "from sklearn.utils import resample\n",
    "from imblearn.over_sampling import RandomOverSampler\n",
    "from collections import Counter"
   ]
  },
  {
   "cell_type": "markdown",
   "id": "de9baf08",
   "metadata": {},
   "source": [
    "# Data and preprosses"
   ]
  },
  {
   "cell_type": "code",
   "execution_count": 15,
   "id": "f9f95c74",
   "metadata": {},
   "outputs": [],
   "source": [
    "f = open('TVs-all-merged2.json')\n",
    "data = json.load(f)\n",
    "f.close()"
   ]
  },
  {
   "cell_type": "code",
   "execution_count": 16,
   "id": "95e9a5f1",
   "metadata": {},
   "outputs": [],
   "source": [
    "dataframe = pd.json_normalize(data).transpose()\n",
    "model_id = []\n",
    "features = []\n",
    "title = []\n",
    "shop = []\n",
    "for i in range(len(dataframe)):\n",
    "    for j in range(len(dataframe[0][i])):\n",
    "        model_id.append(dataframe[0][i][j]['modelID'])\n",
    "        features.append(dataframe[0][i][j]['featuresMap'])\n",
    "        title.append(dataframe[0][i][j]['title'])\n",
    "        shop.append(dataframe[0][i][j]['shop'])"
   ]
  },
  {
   "cell_type": "code",
   "execution_count": 17,
   "id": "7182d119",
   "metadata": {},
   "outputs": [],
   "source": [
    "df= pd.DataFrame()\n",
    "df['model_id'] = model_id\n",
    "df['features'] = features\n",
    "df['title'] = title\n",
    "df['shop'] = shop"
   ]
  },
  {
   "cell_type": "code",
   "execution_count": 18,
   "id": "5f4c0e24",
   "metadata": {},
   "outputs": [],
   "source": [
    "# Making one column with the title and values of the features dictionary/\n",
    "# Removing words that occur often in title for one shop and other punctuation marks and set everythig to lower case. \n",
    "df['titlefeatures'] = df[['title','features']].apply(lambda x : f'{x[0]}{x[1].values()}', axis=1)\n",
    "df['titlefeatures'] = df['titlefeatures'].apply(lambda x: x.lower().replace('newegg.com','').replace('best buy', '')\n",
    "                                                 .replace('/', '').replace('-', '').replace('class', '').replace('yes', '')\n",
    "                                                 .replace(\"\\', \\'\", \" \").replace(\"([\\'\", \" \"). replace(\"\\'])\", \"\")\n",
    "                                               .replace(';', '').replace('dict_values', ''))\n"
   ]
  },
  {
   "cell_type": "markdown",
   "id": "8fe3d16b",
   "metadata": {},
   "source": [
    "# Functions"
   ]
  },
  {
   "cell_type": "code",
   "execution_count": 2,
   "id": "54ed980e",
   "metadata": {},
   "outputs": [],
   "source": [
    "# Function that makes shingles of ngrams.\n",
    "def get_shingles(text, ngram):\n",
    "    shingles = set(text[head:head + ngram] for head in range(0, len(text) - ngram))\n",
    "    return shingles"
   ]
  },
  {
   "cell_type": "code",
   "execution_count": 3,
   "id": "e67c6cc5",
   "metadata": {},
   "outputs": [],
   "source": [
    "# Function that makes vocabulary of all shingles, needed to make the binary vectors.\n",
    "def get_vocab(shingle_sets):\n",
    "    full_set = {item for set_ in shingle_sets for item in set_}\n",
    "    vocab = {}\n",
    "    for i, shingle in enumerate(list(full_set)):\n",
    "        vocab[shingle] = i\n",
    "    return vocab"
   ]
  },
  {
   "cell_type": "code",
   "execution_count": 4,
   "id": "c1aa649c",
   "metadata": {},
   "outputs": [],
   "source": [
    "# Funstion that makes the binary vectors.\n",
    "def get_binary_vector(shingles, vocab):\n",
    "    vec = np.zeros(len(vocab))\n",
    "    for shingle in shingles:\n",
    "        idx = vocab[shingle]\n",
    "        vec[idx] = 1\n",
    "    return vec"
   ]
  },
  {
   "cell_type": "code",
   "execution_count": 5,
   "id": "c57b0254",
   "metadata": {},
   "outputs": [],
   "source": [
    "# Random permutation minhashing function, n hash functions.\n",
    "def minhashing(vocab, n):\n",
    "    length = len(vocab.keys())\n",
    "    arr = np.zeros((n, length))\n",
    "    for i in range(n):\n",
    "        permutation = np.random.permutation(len(vocab)) + 1\n",
    "        arr[i, :] = permutation.copy()\n",
    "    return arr.astype(int)"
   ]
  },
  {
   "cell_type": "code",
   "execution_count": 6,
   "id": "7e69b317",
   "metadata": {},
   "outputs": [],
   "source": [
    "# Function that makes the signatures from the minhash function, signatures needen for the input of LSH.\n",
    "def get_signature(minhash, vector):\n",
    "    # get index locations of every 1 value in vector\n",
    "    idx = np.nonzero(vector)[0].tolist()\n",
    "    shingles = minhash[:, idx]\n",
    "    # find minimum value in each hash vector\n",
    "    signature = np.min(shingles, axis=1)\n",
    "    return signature"
   ]
  },
  {
   "cell_type": "code",
   "execution_count": 7,
   "id": "13809fb2",
   "metadata": {},
   "outputs": [],
   "source": [
    "# Function that performs LSH, divides the observations into buckets. \n",
    "# Observations with high similarity are put in the same buckets.\n",
    "def get_lsh_buckets(signatures, b):\n",
    "    buckets = []\n",
    "    counter = 0\n",
    "    for i in range(b):\n",
    "        buckets.append({})\n",
    "    for signature in signatures:\n",
    "        # Make subvecs\n",
    "        n = len(signature)\n",
    "        assert n % b == 0\n",
    "        r = int(n / b)\n",
    "        t = (1 / b) ** (1 / r)\n",
    "        # Break into r rows an b bands\n",
    "        subvecs = []\n",
    "        for i in range(0, n, r):\n",
    "            subvecs.append(signature[i:i+r])\n",
    "        subvecs = np.stack(subvecs).astype(str)\n",
    "        # Populate buckets \n",
    "        for i, subvec in enumerate(subvecs):\n",
    "            subvec = ','.join(subvec)\n",
    "            if subvec not in buckets[i].keys():\n",
    "                buckets[i][subvec] = []\n",
    "            buckets[i][subvec].append(counter)\n",
    "        counter += 1\n",
    "    return buckets"
   ]
  },
  {
   "cell_type": "code",
   "execution_count": 8,
   "id": "e18a104f",
   "metadata": {},
   "outputs": [],
   "source": [
    "# Function that makes candidate pairs of the buckets from LSH.\n",
    "def get_candidates(buckets, boot):\n",
    "    candidates = []\n",
    "    for bucket_band in buckets:\n",
    "        keys = bucket_band.keys()\n",
    "        for bucket in keys:\n",
    "            hits = bucket_band[bucket]\n",
    "            if len(hits) > 1:\n",
    "                for cand in combinations(hits, 2):\n",
    "                    # Get only cendidate pairs not from the same website\n",
    "                    if boot.at[cand[0],'shop'] != boot.at[cand[1],'shop']:\n",
    "                        candidates.append(cand)\n",
    "            \n",
    "    return set(candidates)"
   ]
  },
  {
   "cell_type": "code",
   "execution_count": 9,
   "id": "3fa50fc2",
   "metadata": {},
   "outputs": [],
   "source": [
    "# Function that calculates the Jaccard similarity between two observations.\n",
    "# Input is the binary vector, because that has the same length for every observation. \n",
    "# If only shingles of tokens where used, then the union is larger if one observation has a longer title or more features.\n",
    "def Jac(s1, s2, vocab):\n",
    "    t1 = get_shingles(s1, 3)\n",
    "    t2 = get_shingles(s2, 3)\n",
    "    b1 = get_binary_vector(t1, vocab)\n",
    "    b2 = get_binary_vector(t2, vocab)\n",
    "    jac = jaccard_score(b1,b2)\n",
    "    return jac "
   ]
  },
  {
   "cell_type": "code",
   "execution_count": 10,
   "id": "aeb28d24",
   "metadata": {},
   "outputs": [],
   "source": [
    "# Function that calculates the cosine similarity between two binary vectors. \n",
    "def Cos(s1, s2, vocab):\n",
    "    t1 = get_shingles(s1, 3)\n",
    "    t2 = get_shingles(s2, 3)\n",
    "    b1 = get_binary_vector(t1, vocab)\n",
    "    b2 = get_binary_vector(t2, vocab)\n",
    "    cosine = scipy.spatial.distance.cosine(b1, b2)\n",
    "    cos = 1 - cosine # Similarity is 1 - distance\n",
    "    return cos"
   ]
  },
  {
   "cell_type": "markdown",
   "id": "54b82665",
   "metadata": {},
   "source": [
    "# LSH for different values of b & visuals "
   ]
  },
  {
   "cell_type": "code",
   "execution_count": 34,
   "id": "99d710e8",
   "metadata": {},
   "outputs": [
    {
     "data": {
      "text/plain": [
       "(1624, 11290)"
      ]
     },
     "execution_count": 34,
     "metadata": {},
     "output_type": "execute_result"
    }
   ],
   "source": [
    "# Set shingle size\n",
    "k = 3  \n",
    "\n",
    "# Get shingles\n",
    "titles = df['titlefeatures']\n",
    "shingles = []\n",
    "for title in titles:\n",
    "    shingles.append(get_shingles(title, k))\n",
    "\n",
    "# Get vocabulary\n",
    "vocab = get_vocab(shingles)\n",
    "\n",
    "# Get binary vectors \n",
    "shingles_1hot = []\n",
    "for shingle_set in shingles:\n",
    "    shingles_1hot.append(get_binary_vector(shingle_set, vocab))\n",
    "# Make binary vectors of each title and feature values\n",
    "shingles_1hot = np.stack(shingles_1hot)\n",
    "shingles_1hot.shape"
   ]
  },
  {
   "cell_type": "code",
   "execution_count": 35,
   "id": "598fc42a",
   "metadata": {},
   "outputs": [],
   "source": [
    "# Get minhashing, 100 hash functions\n",
    "hhash = minhashing(vocab, 100)\n",
    "\n",
    "# Get signatures\n",
    "signatures = []\n",
    "\n",
    "for vector in shingles_1hot:\n",
    "    signatures.append(get_signature(hhash, vector))\n",
    "\n",
    "# Merge signatures into single array\n",
    "signatures = np.stack(signatures)"
   ]
  },
  {
   "cell_type": "code",
   "execution_count": 37,
   "id": "dfb8514a",
   "metadata": {},
   "outputs": [],
   "source": [
    "# For loop that calculates pair completeness and pair quality for different values of b\n",
    "n_obs = len(df) \n",
    "n_dup = 387 # Max number of candidate pairs\n",
    "b_list = [20,25,50,100] # List of different b's, b=5 and b=10 did not return candidate pairs, therefore omitted.\n",
    "N_c = [] # Number of comparisons made\n",
    "D_f = [] # Amount of duplicates found\n",
    "D_n = [n_dup,n_dup,n_dup,n_dup] \n",
    "F_c = [] # Fraction of comparisons \n",
    "for b in b_list:\n",
    "    buckets_b = get_lsh_buckets(signatures,b)\n",
    "    candidates_b = get_candidates(buckets_b, df)\n",
    "    nc_ = len(candidates_b)\n",
    "    N_c.append(nc_)\n",
    "    fc = nc_/783327 # Assuming that one web shop does not have duplicates (773*(668+163+20)+668*(163+20)+163*20)\n",
    "    F_c.append(fc)\n",
    "    data_b = []\n",
    "    for c in candidates_b: # Makes dataframe for candidate pairs\n",
    "        r = {\"pair\": c,\n",
    "             \"model_id0\": df.at[c[0], 'model_id'],\n",
    "             \"model_id1\": df.at[c[1], 'model_id'],\n",
    "             \"shop0\": df.at[c[0], 'shop'],\n",
    "             \"shop1\": df.at[c[1], 'shop'],\n",
    "             \"features0\": df.at[c[0], 'features'],\n",
    "             \"features1\": df.at[c[1], 'features'],\n",
    "             \"title0\": df.at[c[0], 'title'],\n",
    "             \"title1\": df.at[c[1], 'title'],\n",
    "             \"titlefeature0\": df.at[c[0], 'titlefeatures'],\n",
    "             \"titlefeature1\": df.at[c[1], 'titlefeatures'],\n",
    "             \"duplicate\": (df.at[c[0], 'model_id'] == df.at[c[1], 'model_id'])} # Makes column with True/False if duplicate of not\n",
    "        data_b.append(r)\n",
    "    df_candidate_b = pd.DataFrame(data_b) \n",
    "    Df_ = df_candidate_b['duplicate'].value_counts()[1] # Gives number of True duplicates\n",
    "    D_f.append(Df_)"
   ]
  },
  {
   "cell_type": "code",
   "execution_count": 38,
   "id": "c9bba190",
   "metadata": {},
   "outputs": [
    {
     "name": "stdout",
     "output_type": "stream",
     "text": [
      "[80, 1515, 175442, 775531]\n",
      "[0.00010212848529413641, 0.0019340581902577085, 0.22397032146217352, 0.9900475791080864]\n",
      "[2, 15, 245, 387]\n",
      "[387, 387, 387, 387]\n"
     ]
    }
   ],
   "source": [
    "# Print the values of the claculates values needed for F1*\n",
    "print(N_c)\n",
    "print(F_c)\n",
    "print(D_f)\n",
    "print(D_n)"
   ]
  },
  {
   "cell_type": "code",
   "execution_count": 39,
   "id": "17f71607",
   "metadata": {},
   "outputs": [
    {
     "data": {
      "text/plain": [
       "[0.025, 0.009900990099009901, 0.0013964729084255765, 0.0004990129343636811]"
      ]
     },
     "execution_count": 39,
     "metadata": {},
     "output_type": "execute_result"
    }
   ],
   "source": [
    "# Calculates and print pair quality\n",
    "pq = []\n",
    "for i in range(len(D_f)):\n",
    "    pq_ = D_f[i]/N_c[i]\n",
    "    pq.append(pq_)\n",
    "\n",
    "pq"
   ]
  },
  {
   "cell_type": "code",
   "execution_count": 40,
   "id": "2813de7f",
   "metadata": {},
   "outputs": [
    {
     "data": {
      "text/plain": [
       "[0.00516795865633075, 0.03875968992248062, 0.6330749354005168, 1.0]"
      ]
     },
     "execution_count": 40,
     "metadata": {},
     "output_type": "execute_result"
    }
   ],
   "source": [
    "# Calculate and print pair completeness \n",
    "pc = []\n",
    "for j in range(len(D_f)):\n",
    "    pc_ = D_f[j]/D_n[j]\n",
    "    pc.append(pc_)\n",
    "    \n",
    "pc"
   ]
  },
  {
   "cell_type": "code",
   "execution_count": 41,
   "id": "5f8a45ef",
   "metadata": {},
   "outputs": [
    {
     "data": {
      "text/plain": [
       "[0.008565310492505354,\n",
       " 0.015772870662460567,\n",
       " 0.002786798537215135,\n",
       " 0.0009975280893084063]"
      ]
     },
     "execution_count": 41,
     "metadata": {},
     "output_type": "execute_result"
    }
   ],
   "source": [
    "# Calculate and print F1* \n",
    "f1_lsh = []\n",
    "for l in range(len(pc)):\n",
    "    f1_lsh_ = (2 * pq[l] * pc[l])/(pq[l] + pc[l])\n",
    "    f1_lsh.append(f1_lsh_)\n",
    "    \n",
    "f1_lsh"
   ]
  },
  {
   "cell_type": "code",
   "execution_count": 42,
   "id": "a9d1fd29",
   "metadata": {},
   "outputs": [
    {
     "data": {
      "image/png": "[encoded data removed]",
      "text/plain": [
       "<Figure size 432x288 with 1 Axes>"
      ]
     },
     "metadata": {
      "needs_background": "light"
     },
     "output_type": "display_data"
    }
   ],
   "source": [
    "# Plots pair quality with respect to fraction of comparisons\n",
    "plt.plot(F_c, pq)\n",
    "plt.ylabel('Pair Quality')\n",
    "plt.xlabel('Fraction of Comparisons')\n",
    "plt.show()"
   ]
  },
  {
   "cell_type": "code",
   "execution_count": 44,
   "id": "86e211ae",
   "metadata": {},
   "outputs": [
    {
     "data": {
      "image/png": "[encoded data removed]",
      "text/plain": [
       "<Figure size 432x288 with 1 Axes>"
      ]
     },
     "metadata": {
      "needs_background": "light"
     },
     "output_type": "display_data"
    }
   ],
   "source": [
    "# Plots pair completeness with respect to fraction of comparisons\n",
    "plt.plot(F_c, pc)\n",
    "plt.ylabel('Pair Completeness')\n",
    "plt.xlabel('Fraction of Comparisons')\n",
    "plt.show()"
   ]
  },
  {
   "cell_type": "code",
   "execution_count": 43,
   "id": "2d61ec3c",
   "metadata": {},
   "outputs": [
    {
     "data": {
      "text/plain": [
       "Text(0.5, 0, 'Fraction of Comparisons')"
      ]
     },
     "execution_count": 43,
     "metadata": {},
     "output_type": "execute_result"
    },
    {
     "data": {
      "image/png": "[encoded data removed]",
      "text/plain": [
       "<Figure size 432x288 with 1 Axes>"
      ]
     },
     "metadata": {
      "needs_background": "light"
     },
     "output_type": "display_data"
    }
   ],
   "source": [
    "# Plots F1* with respect to fraction of comparisons\n",
    "plt.plot(F_c, f1_lsh)\n",
    "plt.ylabel('F1')\n",
    "plt.xlabel('Fraction of Comparisons')"
   ]
  },
  {
   "cell_type": "markdown",
   "id": "a6a174a4",
   "metadata": {},
   "source": [
    "# Bootstrapping LSH and Classification "
   ]
  },
  {
   "cell_type": "code",
   "execution_count": 22,
   "id": "6043b1e1",
   "metadata": {},
   "outputs": [],
   "source": [
    "# Function that runs one boorstrap each time\n",
    "def run_boot(df_total):\n",
    "    # Get train data (boot) of 63% with replacement, rest is test data (oob)\n",
    "    df_boot = df_total.sample(frac=0.63, replace=True, random_state=42)\n",
    "    df_oob = df_total.merge(df_boot, how = 'outer', indicator=True).loc[lambda x : x['_merge']=='left_only']\n",
    "    df_boot = df_boot.reset_index(drop=True)\n",
    "    df_oob = df_oob.reset_index(drop=True)\n",
    "\n",
    "    # Innder function that makes candidate pairs for train and test set and gives F1* \n",
    "    def all_preprocess(df_prep):\n",
    "        k = 3  # Set shingle size\n",
    "\n",
    "        # Get shingles\n",
    "        titles = df_prep['titlefeatures']\n",
    "        shingles = []\n",
    "        for title in titles:\n",
    "            shingles.append(get_shingles(title, k))\n",
    "\n",
    "        # Get vocabulary\n",
    "        vocab = get_vocab(shingles)\n",
    "\n",
    "        # Get binary vector\n",
    "        shingles_1hot = []\n",
    "        for shingle_set in shingles:\n",
    "            shingles_1hot.append(get_binary_vector(shingle_set, vocab))\n",
    "        # make binary vectors of each title and feature values\n",
    "        shingles_1hot = np.stack(shingles_1hot)\n",
    "        shingles_1hot.shape\n",
    "        \n",
    "        # Get minhash funchtions \n",
    "        hhash = minhashing(vocab, 100)\n",
    "\n",
    "        signatures = []\n",
    "        # Get signatures \n",
    "        for vector in shingles_1hot:\n",
    "            signatures.append(get_signature(hhash, vector))\n",
    "            \n",
    "        signatures = np.stack(signatures)\n",
    "        signatures.shape\n",
    "\n",
    "        # Get buckets from LSH\n",
    "        buckets = get_lsh_buckets(signatures, 25) # Change to 25 to run the second round of bootstraps\n",
    "        # Get candidate pairs from buckets\n",
    "        candidates = get_candidates(buckets, df_prep)\n",
    "        print(f'number of cadidate pairs: {len(candidates)}') #Prints first the number of candidate pairs of the boot then oob\n",
    "\n",
    "        # Get candidate pair dataframe for classification \n",
    "        data_candidates = []\n",
    "        for c in candidates:\n",
    "            r = {\"pair\": c,\n",
    "                 \"model_id0\": df_prep.at[c[0], 'model_id'],\n",
    "                 \"model_id1\": df_prep.at[c[1], 'model_id'],\n",
    "                 \"shop0\": df_prep.at[c[0], 'shop'],\n",
    "                 \"shop1\": df_prep.at[c[1], 'shop'],\n",
    "                 \"title0\": df_prep.at[c[0], 'title'],\n",
    "                 \"title1\": df_prep.at[c[1], 'title'],\n",
    "                 \"titlefeature0\": df_prep.at[c[0], 'titlefeatures'],\n",
    "                 \"titlefeature1\": df_prep.at[c[1], 'titlefeatures'],\n",
    "                 \"duplicate\": (df_prep.at[c[0], 'model_id'] == df_prep.at[c[1], 'model_id'])}\n",
    "            data_candidates.append(r)\n",
    "        df_candidates = pd.DataFrame(data_candidates)\n",
    "        \n",
    "        # To get F1*-score\n",
    "        nc = len(candidates)\n",
    "        unique_id = len(set(df_prep['model_id']))\n",
    "        n_obs = len(df_prep)\n",
    "        n_dup = n_obs - unique_id\n",
    "        dt = df_candidates['duplicate'].value_counts()[1]\n",
    "        pc = dt/n_dup\n",
    "        pq = dt/nc\n",
    "        f1_star = (2*pc*pq)/(pc+pq)\n",
    "        \n",
    "        df_candidates['jac'] = df_candidates[['titlefeature0', 'titlefeature1']].apply(lambda x: Jac(x[0], x[1], vocab), axis=1)\n",
    "        df_candidates['cos'] = df_candidates[['titlefeature0', 'titlefeature1']].apply(lambda x: Cos(x[0], x[1], vocab), axis=1)    \n",
    "\n",
    "        return df_candidates, f1_star\n",
    "    \n",
    "    # Calls inner function \n",
    "    df_boot_candidates, f1_boot = all_preprocess(df_boot)\n",
    "    df_oob_candidates, f1_oob = all_preprocess(df_oob)\n",
    "    \n",
    "    print(f\"This is the f1 of lsh for boot: {f1_boot}\")\n",
    "    print(f\"This is the f1 of lsh for oob: {f1_oob}\")\n",
    "    \n",
    "    # Define train and test set \n",
    "    X_train = df_boot_candidates[['jac', 'cos']]\n",
    "    y_train = df_boot_candidates['duplicate']\n",
    "    \n",
    "    X_test = df_oob_candidates[['jac', 'cos']]\n",
    "    y_test = df_oob_candidates['duplicate']\n",
    "    \n",
    "    # Oversample the minority class, the duplicates\n",
    "    oversample = RandomOverSampler(sampling_strategy='auto')\n",
    "    X_over, y_over = oversample.fit_resample(X_train, y_train)\n",
    "\n",
    "    # Makes model\n",
    "    lr = LogisticRegression(random_state=0).fit(X_over, y_over)\n",
    "\n",
    "    # GridSearch for hyperparamater C\n",
    "    param_grid_lr = {'C': np.logspace(-3, 3, 7)}\n",
    "    grid_lr = GridSearchCV(lr, param_grid_lr, cv=5) \n",
    "    fitgrid_lr = grid_lr.fit(X_over, y_over)\n",
    "    y_pred_lr = grid_lr.predict(X_over)\n",
    "    y_pred_lr_test = grid_lr.predict(X_test)\n",
    "\n",
    "    # Prints classification report\n",
    "    print(\"Classification metrics:\")\n",
    "    print(classification_report(y_test, y_pred_lr_test, digits=5))\n",
    "    \n",
    "    # Return 3 F1-scores\n",
    "    return f1_score(y_test, y_pred_lr_test), f1_boot, f1_oob\n",
    "\n"
   ]
  },
  {
   "cell_type": "code",
   "execution_count": 19,
   "id": "78e6ae49",
   "metadata": {},
   "outputs": [
    {
     "name": "stdout",
     "output_type": "stream",
     "text": [
      "number of cadidate pairs: 58155\n",
      "number of cadidate pairs: 63439\n",
      "This is the f1 of lsh for boot: 0.0033500837520938024\n",
      "This is the f1 of lsh for oob: 0.0024230599786015483\n",
      "Classification metrics:\n",
      "              precision    recall  f1-score   support\n",
      "\n",
      "       False    0.99986   0.88496   0.93891     63362\n",
      "        True    0.00938   0.89610   0.01856        77\n",
      "\n",
      "    accuracy                        0.88498     63439\n",
      "   macro avg    0.50462   0.89053   0.47873     63439\n",
      "weighted avg    0.99866   0.88498   0.93779     63439\n",
      "\n"
     ]
    }
   ],
   "source": [
    "# 5 bootstraps for b=50\n",
    "f1_run1_b50 = run_boot(df[['model_id', 'shop', 'title', 'titlefeatures']])\n",
    "f1_run2_b50 = run_boot(df[['model_id', 'shop', 'title', 'titlefeatures']])\n",
    "f1_run3_b50 = run_boot(df[['model_id', 'shop', 'title', 'titlefeatures']])\n",
    "f1_run4_b50 = run_boot(df[['model_id', 'shop', 'title', 'titlefeatures']])\n",
    "f1_run5_b50 = run_boot(df[['model_id', 'shop', 'title', 'titlefeatures']])"
   ]
  },
  {
   "cell_type": "code",
   "execution_count": 20,
   "id": "cb3ed1cf",
   "metadata": {},
   "outputs": [
    {
     "name": "stdout",
     "output_type": "stream",
     "text": [
      "(0.018560860793544052, 0.0033500837520938024, 0.0024230599786015483)\n"
     ]
    }
   ],
   "source": [
    "# Print all F1-scores of the 5 bootstraps for b=50\n",
    "print(f1_run1_b50)\n",
    "print(f1_run2_b50)\n",
    "print(f1_run3_b50)\n",
    "print(f1_run4_b50)\n",
    "print(f1_run5_b50)"
   ]
  },
  {
   "cell_type": "code",
   "execution_count": 25,
   "id": "e046a429",
   "metadata": {},
   "outputs": [
    {
     "name": "stdout",
     "output_type": "stream",
     "text": [
      "number of cadidate pairs: 525\n",
      "number of cadidate pairs: 782\n",
      "This is the f1 of lsh for boot: 0.0045662100456621\n",
      "This is the f1 of lsh for oob: 0.011123470522803115\n",
      "Classification metrics:\n",
      "              precision    recall  f1-score   support\n",
      "\n",
      "       False    0.99867   0.96782   0.98301       777\n",
      "        True    0.13793   0.80000   0.23529         5\n",
      "\n",
      "    accuracy                        0.96675       782\n",
      "   macro avg    0.56830   0.88391   0.60915       782\n",
      "weighted avg    0.99317   0.96675   0.97823       782\n",
      "\n"
     ]
    }
   ],
   "source": [
    "# 5 bootstraps for b=25 ----> first set in function b = 25\n",
    "f1_run1_b25 = run_boot(df[['model_id', 'shop', 'title', 'titlefeatures']])\n",
    "f1_run2_b25 = run_boot(df[['model_id', 'shop', 'title', 'titlefeatures']])\n",
    "f1_run3_b25 = run_boot(df[['model_id', 'shop', 'title', 'titlefeatures']])\n",
    "f1_run4_b25 = run_boot(df[['model_id', 'shop', 'title', 'titlefeatures']])\n",
    "f1_run5_b25 = run_boot(df[['model_id', 'shop', 'title', 'titlefeatures']])"
   ]
  },
  {
   "cell_type": "code",
   "execution_count": 26,
   "id": "5b11e4da",
   "metadata": {},
   "outputs": [
    {
     "name": "stdout",
     "output_type": "stream",
     "text": [
      "(0.2352941176470588, 0.0045662100456621, 0.011123470522803115)\n"
     ]
    }
   ],
   "source": [
    "# Print all F1-scores of the 5 bootstraps for b=25\n",
    "print(f1_run1_b25)\n",
    "print(f1_run2_b25)\n",
    "print(f1_run3_b25)\n",
    "print(f1_run4_b25)\n",
    "print(f1_run5_b25)"
   ]
  }
 ],
 "metadata": {
  "kernelspec": {
   "display_name": "Python 3 (ipykernel)",
   "language": "python",
   "name": "python3"
  },
  "language_info": {
   "codemirror_mode": {
    "name": "ipython",
    "version": 3
   },
   "file_extension": ".py",
   "mimetype": "text/x-python",
   "name": "python",
   "nbconvert_exporter": "python",
   "pygments_lexer": "ipython3",
   "version": "3.8.12"
  },
  "varInspector": {
   "cols": {
    "lenName": 16,
    "lenType": 16,
    "lenVar": 40
   },
   "kernels_config": {
    "python": {
     "delete_cmd_postfix": "",
     "delete_cmd_prefix": "del ",
     "library": "var_list.py",
     "varRefreshCmd": "print(var_dic_list())"
    },
    "r": {
     "delete_cmd_postfix": ") ",
     "delete_cmd_prefix": "rm(",
     "library": "var_list.r",
     "varRefreshCmd": "cat(var_dic_list()) "
    }
   },
   "types_to_exclude": [
    "module",
    "function",
    "builtin_function_or_method",
    "instance",
    "_Feature"
   ],
   "window_display": false
  }
 },
 "nbformat": 4,
 "nbformat_minor": 5
}
